{
  "cells": [
    {
      "cell_type": "markdown",
      "metadata": {
        "id": "kOKHODXHbuPw"
      },
      "source": [
        "# 1. What are the five key concepts of Object-Oriented programming (OOPS)?"
      ]
    },
    {
      "cell_type": "markdown",
      "metadata": {
        "id": "-gXVpnw7cdp-"
      },
      "source": [
        "ANSWER. ) The five key concepts of object-oriented progamming (oops) are:-\n",
        "1] Polymorphism\n",
        "2] Encapsulation\n",
        "3] Abstraction\n",
        "4] Object and Class\n",
        "5] Inheritance"
      ]
    },
    {
      "cell_type": "markdown",
      "metadata": {
        "id": "ghtOIrRieRpH"
      },
      "source": [
        "# 2. Write a Python class for a 'Car' with attributes for 'make', 'model', and 'year'. Include a method to display the car's information."
      ]
    },
    {
      "cell_type": "code",
      "execution_count": null,
      "metadata": {
        "id": "MEGJwOikGO_w"
      },
      "outputs": [],
      "source": [
        "class Car:\n",
        "  def __init__(self, make, model, year):\n",
        "    self.make = make\n",
        "    self.model = model\n",
        "    self.year = year"
      ]
    },
    {
      "cell_type": "code",
      "execution_count": null,
      "metadata": {
        "colab": {
          "base_uri": "https://localhost:8080/",
          "height": 36
        },
        "id": "TV9OC-osgKBg",
        "outputId": "b49dcb56-c2d3-4b3e-a570-462d4d0fa942"
      },
      "outputs": [
        {
          "data": {
            "application/vnd.google.colaboratory.intrinsic+json": {
              "type": "string"
            },
            "text/plain": [
              "'Suzuki'"
            ]
          },
          "execution_count": 2,
          "metadata": {},
          "output_type": "execute_result"
        }
      ],
      "source": [
        "c1 = Car('Suzuki', 'XL6', '2024')\n",
        "c1.make"
      ]
    },
    {
      "cell_type": "code",
      "execution_count": null,
      "metadata": {
        "colab": {
          "base_uri": "https://localhost:8080/",
          "height": 36
        },
        "id": "9z5USZ_cg1ga",
        "outputId": "efee80e8-8134-416e-81fe-d6b79da71a96"
      },
      "outputs": [
        {
          "data": {
            "application/vnd.google.colaboratory.intrinsic+json": {
              "type": "string"
            },
            "text/plain": [
              "'XL6'"
            ]
          },
          "execution_count": 3,
          "metadata": {},
          "output_type": "execute_result"
        }
      ],
      "source": [
        "c1.model"
      ]
    },
    {
      "cell_type": "code",
      "execution_count": null,
      "metadata": {
        "colab": {
          "base_uri": "https://localhost:8080/",
          "height": 36
        },
        "id": "qeFhuPTUg4Gj",
        "outputId": "e0212950-b663-4ac8-b956-32a27a3966f5"
      },
      "outputs": [
        {
          "data": {
            "application/vnd.google.colaboratory.intrinsic+json": {
              "type": "string"
            },
            "text/plain": [
              "'2024'"
            ]
          },
          "execution_count": 4,
          "metadata": {},
          "output_type": "execute_result"
        }
      ],
      "source": [
        "c1.year"
      ]
    },
    {
      "cell_type": "code",
      "execution_count": null,
      "metadata": {
        "id": "hqyoy8JHg6Nh"
      },
      "outputs": [],
      "source": []
    },
    {
      "cell_type": "markdown",
      "metadata": {
        "id": "-aiJwsZLg997"
      },
      "source": [
        "# 3. Explain the difference between instance methods and class methods. Provide an example of each."
      ]
    },
    {
      "cell_type": "markdown",
      "metadata": {
        "id": "fMrp_6n9ihwe"
      },
      "source": [
        "The difference between instance method and class method is that instance methods are associated with a specific object, while class methods are bound to the class, access and modify methods and attributes associated to class."
      ]
    },
    {
      "cell_type": "code",
      "execution_count": null,
      "metadata": {
        "id": "r6tEaHTyhS1c"
      },
      "outputs": [],
      "source": [
        "class Student:\n",
        "  def __init__(self, name):\n",
        "    self.name = name"
      ]
    },
    {
      "cell_type": "code",
      "execution_count": null,
      "metadata": {
        "colab": {
          "base_uri": "https://localhost:8080/",
          "height": 36
        },
        "id": "Y67M3FC3jwbV",
        "outputId": "6b49da83-60c7-4f04-94f7-34a01f07cc61"
      },
      "outputs": [
        {
          "data": {
            "application/vnd.google.colaboratory.intrinsic+json": {
              "type": "string"
            },
            "text/plain": [
              "'prisha'"
            ]
          },
          "execution_count": 6,
          "metadata": {},
          "output_type": "execute_result"
        }
      ],
      "source": [
        "obj = Student('prisha')\n",
        "obj.name"
      ]
    },
    {
      "cell_type": "code",
      "execution_count": null,
      "metadata": {
        "id": "7qZ1BbJSj6E2"
      },
      "outputs": [],
      "source": [
        "class Student:\n",
        "  def __init__(self, name):\n",
        "    self.name = name\n",
        "  @classmethod\n",
        "  def student_details(cls, name):\n",
        "    return cls(name)"
      ]
    },
    {
      "cell_type": "code",
      "execution_count": null,
      "metadata": {
        "colab": {
          "base_uri": "https://localhost:8080/",
          "height": 36
        },
        "id": "LoUiFwq6kgBV",
        "outputId": "b398c90c-00e3-470c-ffdc-48414c183291"
      },
      "outputs": [
        {
          "data": {
            "application/vnd.google.colaboratory.intrinsic+json": {
              "type": "string"
            },
            "text/plain": [
              "'prisha'"
            ]
          },
          "execution_count": 8,
          "metadata": {},
          "output_type": "execute_result"
        }
      ],
      "source": [
        "obj1 = Student.student_details('prisha')\n",
        "obj1.name"
      ]
    },
    {
      "cell_type": "markdown",
      "metadata": {
        "id": "ftYg4VMgk7tR"
      },
      "source": [
        "# 4. How does Python implement method overloading? Give an example."
      ]
    },
    {
      "cell_type": "code",
      "execution_count": null,
      "metadata": {
        "id": "o_ySt4Iak09p"
      },
      "outputs": [],
      "source": [
        "class Student:\n",
        "  def student(self):\n",
        "    print('welcome to TYBA')\n",
        "  def student(self, name = ''):\n",
        "    print('welcome to TYBA', name)\n",
        "  def student(self, name = '', course = ''):\n",
        "    print('welcome to TYBA', name, course)"
      ]
    },
    {
      "cell_type": "code",
      "execution_count": null,
      "metadata": {
        "colab": {
          "base_uri": "https://localhost:8080/"
        },
        "id": "jSLm2CAgnNLT",
        "outputId": "19c9e4f4-d0ed-4dff-a489-26266e99f313"
      },
      "outputs": [
        {
          "name": "stdout",
          "output_type": "stream",
          "text": [
            "welcome to TYBA  \n"
          ]
        }
      ],
      "source": [
        "stud = Student()\n",
        "stud.student()"
      ]
    },
    {
      "cell_type": "code",
      "execution_count": null,
      "metadata": {
        "colab": {
          "base_uri": "https://localhost:8080/"
        },
        "id": "nPWqKM55nVcX",
        "outputId": "5fe6d660-69d8-4664-cc99-fd550f44e218"
      },
      "outputs": [
        {
          "name": "stdout",
          "output_type": "stream",
          "text": [
            "welcome to TYBA JAY \n"
          ]
        }
      ],
      "source": [
        "stud.student('JAY')"
      ]
    },
    {
      "cell_type": "code",
      "execution_count": null,
      "metadata": {
        "colab": {
          "base_uri": "https://localhost:8080/"
        },
        "id": "zVcDVIJyng0t",
        "outputId": "4626cad3-97de-4803-fc22-910cda348122"
      },
      "outputs": [
        {
          "name": "stdout",
          "output_type": "stream",
          "text": [
            "welcome to TYBA JAY Psychology\n"
          ]
        }
      ],
      "source": [
        "stud.student('JAY', 'Psychology')"
      ]
    },
    {
      "cell_type": "markdown",
      "metadata": {
        "id": "3fZKLTSInu3A"
      },
      "source": [
        "# 5. What are the three types of access modifiers in Python? How are they denoted?"
      ]
    },
    {
      "cell_type": "markdown",
      "metadata": {
        "id": "ZG6mBu5xoM_F"
      },
      "source": [
        "      The three types of access modifiers in python are Public, Private and Protected. The examples are as follows:-"
      ]
    },
    {
      "cell_type": "markdown",
      "metadata": {
        "id": "y1CkNlyRpRio"
      },
      "source": [
        " 1.Public access modifier."
      ]
    },
    {
      "cell_type": "code",
      "execution_count": null,
      "metadata": {
        "id": "kG4_qOySn5r7"
      },
      "outputs": [],
      "source": [
        "class Student:\n",
        "  def __init__(self, name, degree):\n",
        "    self.name = name\n",
        "    self.degree = degree\n"
      ]
    },
    {
      "cell_type": "code",
      "execution_count": null,
      "metadata": {
        "colab": {
          "base_uri": "https://localhost:8080/",
          "height": 36
        },
        "id": "2AtyvDKqp28O",
        "outputId": "41133490-e511-458b-ee92-f070579e207d"
      },
      "outputs": [
        {
          "data": {
            "application/vnd.google.colaboratory.intrinsic+json": {
              "type": "string"
            },
            "text/plain": [
              "'Jay'"
            ]
          },
          "execution_count": 16,
          "metadata": {},
          "output_type": "execute_result"
        }
      ],
      "source": [
        "stud = Student('Jay', 'B.A')\n",
        "stud.name"
      ]
    },
    {
      "cell_type": "code",
      "execution_count": null,
      "metadata": {
        "colab": {
          "base_uri": "https://localhost:8080/",
          "height": 36
        },
        "id": "I6XVkemBqDpN",
        "outputId": "7d54818a-c640-43fb-8434-20fdc3987f4f"
      },
      "outputs": [
        {
          "data": {
            "application/vnd.google.colaboratory.intrinsic+json": {
              "type": "string"
            },
            "text/plain": [
              "'B.A'"
            ]
          },
          "execution_count": 17,
          "metadata": {},
          "output_type": "execute_result"
        }
      ],
      "source": [
        "stud.degree"
      ]
    },
    {
      "cell_type": "markdown",
      "metadata": {
        "id": "0FntVX5jqLeO"
      },
      "source": [
        " 2.Private access modifier."
      ]
    },
    {
      "cell_type": "code",
      "execution_count": null,
      "metadata": {
        "id": "p1QvM91dqFzo"
      },
      "outputs": [],
      "source": [
        "class Student:\n",
        "  def __init__(self, name, degree):\n",
        "    self.name = name\n",
        "    self.__degree = degree\n",
        "  def show(self):\n",
        "    print('name', self.name, 'degree', self.__degree)"
      ]
    },
    {
      "cell_type": "code",
      "execution_count": null,
      "metadata": {
        "colab": {
          "base_uri": "https://localhost:8080/",
          "height": 36
        },
        "id": "AOA0vbI8rjKm",
        "outputId": "c24425a5-9b96-403f-a7c2-985d663b7e34"
      },
      "outputs": [
        {
          "data": {
            "application/vnd.google.colaboratory.intrinsic+json": {
              "type": "string"
            },
            "text/plain": [
              "'Akshay'"
            ]
          },
          "execution_count": 20,
          "metadata": {},
          "output_type": "execute_result"
        }
      ],
      "source": [
        "ab = Student('Akshay','B.COM')\n",
        "ab.name"
      ]
    },
    {
      "cell_type": "code",
      "execution_count": null,
      "metadata": {
        "colab": {
          "base_uri": "https://localhost:8080/"
        },
        "id": "TExf-Q0Lr2Fl",
        "outputId": "bb420db8-5bc7-4777-dc7e-4895ef99044e"
      },
      "outputs": [
        {
          "name": "stdout",
          "output_type": "stream",
          "text": [
            "name Akshay degree B.COM\n"
          ]
        }
      ],
      "source": [
        "ab.show()"
      ]
    },
    {
      "cell_type": "code",
      "execution_count": null,
      "metadata": {
        "colab": {
          "base_uri": "https://localhost:8080/",
          "height": 141
        },
        "id": "WMI3V4Dyr_5L",
        "outputId": "924caf94-869b-4616-8094-1997bef88769"
      },
      "outputs": [
        {
          "ename": "AttributeError",
          "evalue": "'Student' object has no attribute 'degree'",
          "output_type": "error",
          "traceback": [
            "\u001b[0;31m---------------------------------------------------------------------------\u001b[0m",
            "\u001b[0;31mAttributeError\u001b[0m                            Traceback (most recent call last)",
            "\u001b[0;32m<ipython-input-23-6a9740a81bf0>\u001b[0m in \u001b[0;36m<cell line: 1>\u001b[0;34m()\u001b[0m\n\u001b[0;32m----> 1\u001b[0;31m \u001b[0mab\u001b[0m\u001b[0;34m.\u001b[0m\u001b[0mdegree\u001b[0m\u001b[0;34m\u001b[0m\u001b[0;34m\u001b[0m\u001b[0m\n\u001b[0m",
            "\u001b[0;31mAttributeError\u001b[0m: 'Student' object has no attribute 'degree'"
          ]
        }
      ],
      "source": [
        "ab.degree"
      ]
    },
    {
      "cell_type": "code",
      "execution_count": null,
      "metadata": {
        "colab": {
          "base_uri": "https://localhost:8080/",
          "height": 141
        },
        "id": "AM3JyaswsHee",
        "outputId": "e09c6924-a5e5-4dd6-e896-1cd2502f6660"
      },
      "outputs": [
        {
          "ename": "AttributeError",
          "evalue": "'Student' object has no attribute '__degree'",
          "output_type": "error",
          "traceback": [
            "\u001b[0;31m---------------------------------------------------------------------------\u001b[0m",
            "\u001b[0;31mAttributeError\u001b[0m                            Traceback (most recent call last)",
            "\u001b[0;32m<ipython-input-24-c312a83fbfd7>\u001b[0m in \u001b[0;36m<cell line: 1>\u001b[0;34m()\u001b[0m\n\u001b[0;32m----> 1\u001b[0;31m \u001b[0mab\u001b[0m\u001b[0;34m.\u001b[0m\u001b[0m__degree\u001b[0m\u001b[0;34m\u001b[0m\u001b[0;34m\u001b[0m\u001b[0m\n\u001b[0m",
            "\u001b[0;31mAttributeError\u001b[0m: 'Student' object has no attribute '__degree'"
          ]
        }
      ],
      "source": [
        "ab.__degree"
      ]
    },
    {
      "cell_type": "code",
      "execution_count": null,
      "metadata": {
        "colab": {
          "base_uri": "https://localhost:8080/",
          "height": 36
        },
        "id": "cVnyBBQgsLFf",
        "outputId": "4114ca90-2eed-42dd-f00a-1d0762463fe4"
      },
      "outputs": [
        {
          "data": {
            "application/vnd.google.colaboratory.intrinsic+json": {
              "type": "string"
            },
            "text/plain": [
              "'B.COM'"
            ]
          },
          "execution_count": 25,
          "metadata": {},
          "output_type": "execute_result"
        }
      ],
      "source": [
        "ab._Student__degree  #to see the private data, you should know the private class variable"
      ]
    },
    {
      "cell_type": "markdown",
      "metadata": {
        "id": "lCimllcQs96m"
      },
      "source": [
        " 3.Protected"
      ]
    },
    {
      "cell_type": "code",
      "execution_count": null,
      "metadata": {
        "id": "lgZFi5HEsRKP"
      },
      "outputs": [],
      "source": [
        "class Student:\n",
        "  def __init__(self, name, degree):\n",
        "    self.name = name\n",
        "    self._degree = degree"
      ]
    },
    {
      "cell_type": "code",
      "execution_count": null,
      "metadata": {
        "colab": {
          "base_uri": "https://localhost:8080/",
          "height": 36
        },
        "id": "7Rn_70SctSla",
        "outputId": "e06987ea-3bf7-4193-efe2-62ab4e8cef6d"
      },
      "outputs": [
        {
          "data": {
            "application/vnd.google.colaboratory.intrinsic+json": {
              "type": "string"
            },
            "text/plain": [
              "'Ganesh'"
            ]
          },
          "execution_count": 28,
          "metadata": {},
          "output_type": "execute_result"
        }
      ],
      "source": [
        "stud = Student('Ganesh', 'BSC.IT')\n",
        "stud.name"
      ]
    },
    {
      "cell_type": "code",
      "execution_count": null,
      "metadata": {
        "colab": {
          "base_uri": "https://localhost:8080/",
          "height": 141
        },
        "id": "7MRn98K6t7y2",
        "outputId": "319786c1-d20c-41d0-876c-7a969dde06b4"
      },
      "outputs": [
        {
          "ename": "AttributeError",
          "evalue": "'Student' object has no attribute 'degree'",
          "output_type": "error",
          "traceback": [
            "\u001b[0;31m---------------------------------------------------------------------------\u001b[0m",
            "\u001b[0;31mAttributeError\u001b[0m                            Traceback (most recent call last)",
            "\u001b[0;32m<ipython-input-29-ede7020f18af>\u001b[0m in \u001b[0;36m<cell line: 1>\u001b[0;34m()\u001b[0m\n\u001b[0;32m----> 1\u001b[0;31m \u001b[0mstud\u001b[0m\u001b[0;34m.\u001b[0m\u001b[0mdegree\u001b[0m\u001b[0;34m\u001b[0m\u001b[0;34m\u001b[0m\u001b[0m\n\u001b[0m",
            "\u001b[0;31mAttributeError\u001b[0m: 'Student' object has no attribute 'degree'"
          ]
        }
      ],
      "source": [
        "stud.degree"
      ]
    },
    {
      "cell_type": "code",
      "execution_count": null,
      "metadata": {
        "colab": {
          "base_uri": "https://localhost:8080/",
          "height": 36
        },
        "id": "UWolFKfyuAM_",
        "outputId": "07d7851a-4d6a-45e6-e2fa-3c1afe3adf7b"
      },
      "outputs": [
        {
          "data": {
            "application/vnd.google.colaboratory.intrinsic+json": {
              "type": "string"
            },
            "text/plain": [
              "'BSC.IT'"
            ]
          },
          "execution_count": 30,
          "metadata": {},
          "output_type": "execute_result"
        }
      ],
      "source": [
        "stud._degree  # for protected access modifier single underscore(_) is applicable."
      ]
    },
    {
      "cell_type": "markdown",
      "metadata": {
        "id": "4iIvtnx2ujC_"
      },
      "source": [
        "# 6. Describe the five types of inheritance in Python. Provide a simple example of multiple inheritance."
      ]
    },
    {
      "cell_type": "markdown",
      "metadata": {
        "id": "_MVekfV-F5By"
      },
      "source": [
        "The Five types of Inheritance are:-"
      ]
    },
    {
      "cell_type": "markdown",
      "metadata": {
        "id": "TU9Vw8-wGFhY"
      },
      "source": [
        " 1. Single Inheritance >> One Parent class and One child class. when a derived class has only one parent class."
      ]
    },
    {
      "cell_type": "markdown",
      "metadata": {
        "id": "HpwVV1mlG6k4"
      },
      "source": [
        " 2. Multi-level inheritance >> A child class inherits from a parent class, which also inherits from another parent class. E.G- Grandfather >> Father >> Son."
      ]
    },
    {
      "cell_type": "markdown",
      "metadata": {
        "id": "eoNtF3eLHvZ7"
      },
      "source": [
        " 3. Multiple Inheritance >> One Child class may inherits from multiple Parent class."
      ]
    },
    {
      "cell_type": "markdown",
      "metadata": {
        "id": "k_B5tvbiIWJi"
      },
      "source": [
        " 4. Hierarchical Inheritance >> Multiple(more than two) Child class Inherits from the same Parent class."
      ]
    },
    {
      "cell_type": "markdown",
      "metadata": {
        "id": "JWi10eKzI7rn"
      },
      "source": [
        " 5. Hybrid Inheritance >> Multiple types or combination of different inheritance."
      ]
    },
    {
      "cell_type": "markdown",
      "metadata": {
        "id": "9z8ydeAVJduL"
      },
      "source": [
        "  E.G. Multiple inheritance:-"
      ]
    },
    {
      "cell_type": "code",
      "execution_count": null,
      "metadata": {
        "id": "dl2YSnOauHvt"
      },
      "outputs": [],
      "source": [
        "class ParentClass1:\n",
        "  def method1(self):\n",
        "    print('Method 1 of Parent class 1')\n",
        "class ParentClass2:\n",
        "  def method2(self):\n",
        "    print('Method 2 of Parent class 2')\n",
        "class ChildClass (ParentClass1, ParentClass2):\n",
        "  def method(self):\n",
        "    print('Method of Child class')"
      ]
    },
    {
      "cell_type": "code",
      "execution_count": null,
      "metadata": {
        "colab": {
          "base_uri": "https://localhost:8080/"
        },
        "id": "Zkphx0paLJQf",
        "outputId": "66571268-48c9-44eb-d560-e2ab6835398c"
      },
      "outputs": [
        {
          "name": "stdout",
          "output_type": "stream",
          "text": [
            "Method of Child class\n"
          ]
        }
      ],
      "source": [
        "c1 = ChildClass()\n",
        "c1.method()"
      ]
    },
    {
      "cell_type": "code",
      "execution_count": null,
      "metadata": {
        "colab": {
          "base_uri": "https://localhost:8080/"
        },
        "id": "2_WNHc1QLT8l",
        "outputId": "9732879f-05d2-4464-c57e-4ab6240f635f"
      },
      "outputs": [
        {
          "name": "stdout",
          "output_type": "stream",
          "text": [
            "Method 1 of Parent class 1\n"
          ]
        }
      ],
      "source": [
        "c1.method1()"
      ]
    },
    {
      "cell_type": "code",
      "execution_count": null,
      "metadata": {
        "colab": {
          "base_uri": "https://localhost:8080/"
        },
        "id": "BIOFYb4xLXGt",
        "outputId": "30b84ca0-deda-450d-c107-2c83553dcc5a"
      },
      "outputs": [
        {
          "name": "stdout",
          "output_type": "stream",
          "text": [
            "Method 2 of Parent class 2\n"
          ]
        }
      ],
      "source": [
        "c1.method2()"
      ]
    },
    {
      "cell_type": "markdown",
      "metadata": {
        "id": "XeYPoYCyLprL"
      },
      "source": [
        "# 7. What is the Method Resolution Order (MRO) in Python? How can you retrieve it programmatically?"
      ]
    },
    {
      "cell_type": "markdown",
      "source": [
        "  ANSWER. Method Resolution Order(MRO) is a set of rules that determines the order in which python looks for a method in a class hierarchy. It supports multiple inheritance where a class can inherits from more than one parent class."
      ],
      "metadata": {
        "id": "T8f9csGWd53I"
      }
    },
    {
      "cell_type": "code",
      "execution_count": null,
      "metadata": {
        "id": "A7dSo1w6LaOw"
      },
      "outputs": [],
      "source": [
        "class A:\n",
        "  def method(self):\n",
        "    print('method of class A')\n",
        "class B(A):\n",
        "  def method(self):\n",
        "    print('method of class B')\n",
        "class C(A):\n",
        "  def method(self):\n",
        "    print('method of class C')\n",
        "class D(B, C):  # if you change the order of class D by (C, B) and execute, the answer will display as method of class C as MRO determines by order of a class.\n",
        "  pass"
      ]
    },
    {
      "cell_type": "code",
      "source": [
        "d = D()\n",
        "d.method()"
      ],
      "metadata": {
        "colab": {
          "base_uri": "https://localhost:8080/"
        },
        "id": "R_UNdX7JgcCm",
        "outputId": "a63ef2e9-4bf8-4c08-af71-5170ef851ce3"
      },
      "execution_count": null,
      "outputs": [
        {
          "output_type": "stream",
          "name": "stdout",
          "text": [
            "method of class B\n"
          ]
        }
      ]
    },
    {
      "cell_type": "markdown",
      "metadata": {
        "id": "w2CPO4MJL3bL"
      },
      "source": [
        "# 8.  Create an abstract base class 'Shape' with an abstract method 'area()'. Then create two subclasses 'Circle' and 'Rectangle' that implement the 'area()' method."
      ]
    },
    {
      "cell_type": "code",
      "source": [
        "class Shape:\n",
        "  def area(self):\n",
        "\n",
        "class Circle(Shape):\n",
        "  def __init__(self, radius):\n",
        "    self.radius = radius\n",
        "    self.area = 0\n",
        "  def area(self):\n",
        "    self.area = 3.142 * self.radius * self.radius\n",
        "\n",
        "class Rectangle(Shape):\n",
        "  def __init__(self, length, breadth):\n",
        "    self.length = length\n",
        "    self.breadth = breadth\n",
        "    self.area = 0\n",
        "  def area(self):\n",
        "    self.area = 3.142 * self.length * self.length * self.breadth"
      ],
      "metadata": {
        "colab": {
          "base_uri": "https://localhost:8080/",
          "height": 106
        },
        "id": "8apWO14SU51s",
        "outputId": "4de1f77c-e7e4-446a-a229-7cb7687a7d20"
      },
      "execution_count": null,
      "outputs": [
        {
          "output_type": "error",
          "ename": "IndentationError",
          "evalue": "expected an indented block after function definition on line 2 (<ipython-input-8-d8fb75151046>, line 4)",
          "traceback": [
            "\u001b[0;36m  File \u001b[0;32m\"<ipython-input-8-d8fb75151046>\"\u001b[0;36m, line \u001b[0;32m4\u001b[0m\n\u001b[0;31m    class Circle(Shape):\u001b[0m\n\u001b[0m                        ^\u001b[0m\n\u001b[0;31mIndentationError\u001b[0m\u001b[0;31m:\u001b[0m expected an indented block after function definition on line 2\n"
          ]
        }
      ]
    },
    {
      "cell_type": "markdown",
      "metadata": {
        "id": "pttA1Bkqt7UU"
      },
      "source": [
        "# 9. Demonstrate polymorphism by creating a function that can work with different shape objects to calculate and print their areas.\n",
        "\n",
        "\n"
      ]
    },
    {
      "cell_type": "markdown",
      "metadata": {
        "id": "bRTr7BKT2feB"
      },
      "source": [
        "# 10. Implement encapsulation in a 'BankAccount' class with private attributes for 'balance' and 'account_number'. Include methods for deposit, withdrawal, and balance inquiry."
      ]
    },
    {
      "cell_type": "code",
      "execution_count": null,
      "metadata": {
        "id": "7KV20ooa3Fda"
      },
      "outputs": [],
      "source": [
        "class BankAccount:\n",
        "  def __init__(self, balance):\n",
        "    self.__balance = balance\n",
        "  def account_number(self, number):\n",
        "    self.__number = number\n",
        "  def deposit(self, amount):\n",
        "    self.__balance = self.__balance + amount\n",
        "  def withdraw(self, amount):\n",
        "    if self.__balance >= amount:\n",
        "      self.__balance = self.__balance - amount\n",
        "      return True\n",
        "    else:\n",
        "      return False\n",
        "  def get_balance(self):\n",
        "    return self.__balance"
      ]
    },
    {
      "cell_type": "code",
      "execution_count": null,
      "metadata": {
        "id": "UK0eTV_h6xq2"
      },
      "outputs": [],
      "source": [
        "acc1 = BankAccount(2000)"
      ]
    },
    {
      "cell_type": "code",
      "execution_count": null,
      "metadata": {
        "colab": {
          "base_uri": "https://localhost:8080/"
        },
        "id": "gW1l1kFO7C2_",
        "outputId": "2fc08cd7-6cca-4ca4-afa4-4c0e44b20ea9"
      },
      "outputs": [
        {
          "data": {
            "text/plain": [
              "2000"
            ]
          },
          "execution_count": 4,
          "metadata": {},
          "output_type": "execute_result"
        }
      ],
      "source": [
        "acc1.get_balance()"
      ]
    },
    {
      "cell_type": "code",
      "execution_count": null,
      "metadata": {
        "id": "U8c0Fq-R7H2T"
      },
      "outputs": [],
      "source": [
        "acc1.deposit(500)"
      ]
    },
    {
      "cell_type": "code",
      "execution_count": null,
      "metadata": {
        "colab": {
          "base_uri": "https://localhost:8080/"
        },
        "id": "18SdhCNM7iag",
        "outputId": "c01a5822-7bfa-4560-c479-09be12f429a0"
      },
      "outputs": [
        {
          "data": {
            "text/plain": [
              "2500"
            ]
          },
          "execution_count": 6,
          "metadata": {},
          "output_type": "execute_result"
        }
      ],
      "source": [
        "acc1.get_balance()"
      ]
    },
    {
      "cell_type": "code",
      "execution_count": null,
      "metadata": {
        "colab": {
          "base_uri": "https://localhost:8080/"
        },
        "id": "zzrKqk3878EX",
        "outputId": "e853ad2d-5cb5-4a58-9fc2-9fa6ed559ee5"
      },
      "outputs": [
        {
          "data": {
            "text/plain": [
              "True"
            ]
          },
          "execution_count": 9,
          "metadata": {},
          "output_type": "execute_result"
        }
      ],
      "source": [
        "acc1.withdraw(500)"
      ]
    },
    {
      "cell_type": "code",
      "execution_count": null,
      "metadata": {
        "colab": {
          "base_uri": "https://localhost:8080/"
        },
        "id": "CuP9eECQ8Sz8",
        "outputId": "db72ff4e-4a21-4c55-dddb-0cf45ca72e6c"
      },
      "outputs": [
        {
          "data": {
            "text/plain": [
              "2000"
            ]
          },
          "execution_count": 10,
          "metadata": {},
          "output_type": "execute_result"
        }
      ],
      "source": [
        "acc1.get_balance()"
      ]
    },
    {
      "cell_type": "code",
      "execution_count": null,
      "metadata": {
        "colab": {
          "base_uri": "https://localhost:8080/"
        },
        "id": "PX4tu4w38Wf5",
        "outputId": "48fdfb9c-472c-4c27-eb00-09e8b715e8c4"
      },
      "outputs": [
        {
          "data": {
            "text/plain": [
              "False"
            ]
          },
          "execution_count": 11,
          "metadata": {},
          "output_type": "execute_result"
        }
      ],
      "source": [
        "acc1.withdraw(2500)"
      ]
    },
    {
      "cell_type": "code",
      "execution_count": null,
      "metadata": {
        "id": "fhbaUjBI8rF6"
      },
      "outputs": [],
      "source": [
        "acc1.account_number(number = 50010002634)"
      ]
    },
    {
      "cell_type": "code",
      "execution_count": null,
      "metadata": {
        "colab": {
          "base_uri": "https://localhost:8080/",
          "height": 141
        },
        "id": "r9uTe-G19tmN",
        "outputId": "94cdccc9-fcaa-42a9-e2af-2ab9f306ba06"
      },
      "outputs": [
        {
          "output_type": "error",
          "ename": "AttributeError",
          "evalue": "'BankAccount' object has no attribute 'number'",
          "traceback": [
            "\u001b[0;31m---------------------------------------------------------------------------\u001b[0m",
            "\u001b[0;31mAttributeError\u001b[0m                            Traceback (most recent call last)",
            "\u001b[0;32m<ipython-input-26-72bab95cdeca>\u001b[0m in \u001b[0;36m<cell line: 1>\u001b[0;34m()\u001b[0m\n\u001b[0;32m----> 1\u001b[0;31m \u001b[0macc1\u001b[0m\u001b[0;34m.\u001b[0m\u001b[0mnumber\u001b[0m\u001b[0;34m(\u001b[0m\u001b[0;34m)\u001b[0m\u001b[0;34m\u001b[0m\u001b[0;34m\u001b[0m\u001b[0m\n\u001b[0m",
            "\u001b[0;31mAttributeError\u001b[0m: 'BankAccount' object has no attribute 'number'"
          ]
        }
      ],
      "source": [
        "acc1.number()  # it will show error because number is private"
      ]
    },
    {
      "cell_type": "code",
      "execution_count": null,
      "metadata": {
        "id": "aVoYf9lI9xSo",
        "colab": {
          "base_uri": "https://localhost:8080/"
        },
        "outputId": "0f76f4dc-52b4-456d-ea86-f7638892f9e7"
      },
      "outputs": [
        {
          "output_type": "execute_result",
          "data": {
            "text/plain": [
              "50010002634"
            ]
          },
          "metadata": {},
          "execution_count": 27
        }
      ],
      "source": [
        "acc1._BankAccount__number  # to access private modifier, you have to know the class"
      ]
    },
    {
      "cell_type": "code",
      "source": [
        "acc1.balance()  # because balance has set private"
      ],
      "metadata": {
        "colab": {
          "base_uri": "https://localhost:8080/",
          "height": 141
        },
        "id": "oKyXSRouBVEq",
        "outputId": "e9eaa1eb-93b6-439d-9860-1996666be5e2"
      },
      "execution_count": null,
      "outputs": [
        {
          "output_type": "error",
          "ename": "AttributeError",
          "evalue": "'BankAccount' object has no attribute 'balance'",
          "traceback": [
            "\u001b[0;31m---------------------------------------------------------------------------\u001b[0m",
            "\u001b[0;31mAttributeError\u001b[0m                            Traceback (most recent call last)",
            "\u001b[0;32m<ipython-input-28-65b7289b0715>\u001b[0m in \u001b[0;36m<cell line: 1>\u001b[0;34m()\u001b[0m\n\u001b[0;32m----> 1\u001b[0;31m \u001b[0macc1\u001b[0m\u001b[0;34m.\u001b[0m\u001b[0mbalance\u001b[0m\u001b[0;34m(\u001b[0m\u001b[0;34m)\u001b[0m\u001b[0;34m\u001b[0m\u001b[0;34m\u001b[0m\u001b[0m\n\u001b[0m",
            "\u001b[0;31mAttributeError\u001b[0m: 'BankAccount' object has no attribute 'balance'"
          ]
        }
      ]
    },
    {
      "cell_type": "code",
      "source": [
        "acc1._BankAccount__balance  # to access private modifier you have to know the class"
      ],
      "metadata": {
        "colab": {
          "base_uri": "https://localhost:8080/"
        },
        "id": "vBmVWQVIBs8t",
        "outputId": "26714d2c-3a1d-4bd9-9b13-d130d3544227"
      },
      "execution_count": null,
      "outputs": [
        {
          "output_type": "execute_result",
          "data": {
            "text/plain": [
              "2000"
            ]
          },
          "metadata": {},
          "execution_count": 29
        }
      ]
    },
    {
      "cell_type": "markdown",
      "source": [
        "# 11. Write a class that overrides the '__str__' and '__add__' magic methods. What will these methods allow you to do?"
      ],
      "metadata": {
        "id": "i8ytCEoqCRVV"
      }
    },
    {
      "cell_type": "code",
      "source": [
        "class Hotel_menu:\n",
        "  def __init__(self, Dish, Price):\n",
        "    self.Dish = Dish\n",
        "    self.Price = Price\n",
        "\n",
        "  def __str__(self):\n",
        "    return self.Dish + \" - \" + self.Price\n",
        "\n",
        "  def __add__(self, other):\n",
        "    return self.Price + other.Price\n"
      ],
      "metadata": {
        "id": "nJHCAdK9B2b4"
      },
      "execution_count": null,
      "outputs": []
    },
    {
      "cell_type": "code",
      "source": [
        "menu_1 = Hotel_menu('Chicken tikka masala', 350)\n",
        "menu_2 = Hotel_menu('Jeera rice', 130)\n",
        "print(menu_1 + menu_2)"
      ],
      "metadata": {
        "colab": {
          "base_uri": "https://localhost:8080/"
        },
        "id": "UQXtq-_2zA1o",
        "outputId": "37e24a56-f5a0-4463-ef30-dd53107dea39"
      },
      "execution_count": null,
      "outputs": [
        {
          "output_type": "stream",
          "name": "stdout",
          "text": [
            "480\n"
          ]
        }
      ]
    },
    {
      "cell_type": "markdown",
      "source": [
        "# 12. Create a decorator that measures and prints the execution time of a function."
      ],
      "metadata": {
        "id": "4Batl75EFCmU"
      }
    },
    {
      "cell_type": "code",
      "source": [
        "import time\n",
        "def timer_decorator(func):\n",
        "  def timer():\n",
        "    start = time.time()\n",
        "    func()\n",
        "    end = time.time()\n",
        "    print('Time taken for evecuting code', end-start)\n",
        "  return timer"
      ],
      "metadata": {
        "id": "GeLPnAn4FN5V"
      },
      "execution_count": null,
      "outputs": []
    },
    {
      "cell_type": "code",
      "source": [
        "@timer_decorator\n",
        "def func_test():\n",
        "  print(100*100)"
      ],
      "metadata": {
        "id": "I0g1_Tg0GSCO"
      },
      "execution_count": null,
      "outputs": []
    },
    {
      "cell_type": "code",
      "source": [
        "func_test()"
      ],
      "metadata": {
        "id": "2lUbCVyeGlPU",
        "colab": {
          "base_uri": "https://localhost:8080/"
        },
        "outputId": "086122dc-3a7e-4c90-bb58-9c367163da62"
      },
      "execution_count": null,
      "outputs": [
        {
          "output_type": "stream",
          "name": "stdout",
          "text": [
            "10000\n",
            "Time taken for evecuting code 6.461143493652344e-05\n"
          ]
        }
      ]
    },
    {
      "cell_type": "markdown",
      "source": [
        "# 13. Explain the concept of the Diamond Problem in multiple inheritance. How does Python resolve it?"
      ],
      "metadata": {
        "id": "s79tmC--IMqW"
      }
    },
    {
      "cell_type": "code",
      "source": [
        "class A:\n",
        "  def method(self):\n",
        "    print('method of class A')\n",
        "class B(A):\n",
        "  def method(self):\n",
        "    print('method of class B')\n",
        "class C(A):\n",
        "  def method(self):\n",
        "    print('method of class C')\n",
        "class D(B, C):\n",
        "  pass"
      ],
      "metadata": {
        "id": "uKr2BOThGooD"
      },
      "execution_count": null,
      "outputs": []
    },
    {
      "cell_type": "code",
      "source": [
        "d = D()\n",
        "d.method()  # if in class D, if B is ahead it will execute B. and it we change into C ahead, than C will be executed."
      ],
      "metadata": {
        "colab": {
          "base_uri": "https://localhost:8080/"
        },
        "id": "pzA4rnGYLVYm",
        "outputId": "3d07fa6a-c07f-4af1-f897-a12ba12bd188"
      },
      "execution_count": null,
      "outputs": [
        {
          "output_type": "stream",
          "name": "stdout",
          "text": [
            "method of class B\n"
          ]
        }
      ]
    },
    {
      "cell_type": "markdown",
      "source": [
        "# 14. Write a class method that keeps track of the number of instances created from a class."
      ],
      "metadata": {
        "id": "4f2sXSdeMD9e"
      }
    },
    {
      "cell_type": "code",
      "source": [
        "class Student:\n",
        "  total_students = 0\n",
        "  def __init__(self, name):\n",
        "    self.name = name\n",
        "    Student.total_students = Student.total_students+1\n",
        "  @classmethod\n",
        "  def get_total_students(cls):\n",
        "    return cls.total_students"
      ],
      "metadata": {
        "id": "v4jMpMcPLfRi"
      },
      "execution_count": null,
      "outputs": []
    },
    {
      "cell_type": "code",
      "source": [
        "Student.total_students"
      ],
      "metadata": {
        "colab": {
          "base_uri": "https://localhost:8080/"
        },
        "id": "z6sOSz1ZRWeE",
        "outputId": "df1fc31e-72d7-43e0-fc9b-d694af775318"
      },
      "execution_count": null,
      "outputs": [
        {
          "output_type": "execute_result",
          "data": {
            "text/plain": [
              "0"
            ]
          },
          "metadata": {},
          "execution_count": 6
        }
      ]
    },
    {
      "cell_type": "code",
      "source": [
        "stud1 = Student('JAY')\n",
        "stud2 = Student('GANESH')"
      ],
      "metadata": {
        "id": "Ag90zdQRVYbq"
      },
      "execution_count": null,
      "outputs": []
    },
    {
      "cell_type": "code",
      "source": [
        "stud1.name"
      ],
      "metadata": {
        "id": "IlAmh0gOWJR7",
        "colab": {
          "base_uri": "https://localhost:8080/",
          "height": 36
        },
        "outputId": "8949391f-5b91-48fd-dd95-e5667f731f40"
      },
      "execution_count": null,
      "outputs": [
        {
          "output_type": "execute_result",
          "data": {
            "text/plain": [
              "'JAY'"
            ],
            "application/vnd.google.colaboratory.intrinsic+json": {
              "type": "string"
            }
          },
          "metadata": {},
          "execution_count": 8
        }
      ]
    },
    {
      "cell_type": "code",
      "source": [
        "stud2.name"
      ],
      "metadata": {
        "colab": {
          "base_uri": "https://localhost:8080/",
          "height": 36
        },
        "id": "Q5udMMUp38d-",
        "outputId": "e9db47ce-4816-45c5-81c4-63fbce462958"
      },
      "execution_count": null,
      "outputs": [
        {
          "output_type": "execute_result",
          "data": {
            "text/plain": [
              "'GANESH'"
            ],
            "application/vnd.google.colaboratory.intrinsic+json": {
              "type": "string"
            }
          },
          "metadata": {},
          "execution_count": 9
        }
      ]
    },
    {
      "cell_type": "code",
      "source": [
        "Student.total_students"
      ],
      "metadata": {
        "colab": {
          "base_uri": "https://localhost:8080/"
        },
        "id": "BdvC3lXm4EdB",
        "outputId": "00bb4fea-f64e-46f8-ae6b-84ed0755d67b"
      },
      "execution_count": null,
      "outputs": [
        {
          "output_type": "execute_result",
          "data": {
            "text/plain": [
              "2"
            ]
          },
          "metadata": {},
          "execution_count": 10
        }
      ]
    },
    {
      "cell_type": "markdown",
      "source": [
        "# 15. Implement a static method in a class that checks if a given year is a leap year."
      ],
      "metadata": {
        "id": "nmmYEz4hZeFu"
      }
    },
    {
      "cell_type": "code",
      "source": [
        "def is_leap_year(year):\n",
        "  if ((year % 4 == 0 and year % 100 != 0) or year % 400 == 0):\n",
        "    print(year, 'is a leap year')\n",
        "  else:\n",
        "    print(year, 'is not a leap year')\n",
        "\n",
        "year = int(input('Enter the year:'))\n",
        "is_leap_year(year)"
      ],
      "metadata": {
        "id": "d1Iwiy0ZZorY",
        "colab": {
          "base_uri": "https://localhost:8080/"
        },
        "outputId": "b53b4c6d-de47-4f37-999d-ee9967b49cb1"
      },
      "execution_count": null,
      "outputs": [
        {
          "output_type": "stream",
          "name": "stdout",
          "text": [
            "Enter the year:2020\n",
            "2020 is a leap year\n"
          ]
        }
      ]
    },
    {
      "cell_type": "code",
      "source": [],
      "metadata": {
        "id": "yoEN9FYxIlT_"
      },
      "execution_count": null,
      "outputs": []
    }
  ],
  "metadata": {
    "colab": {
      "provenance": []
    },
    "kernelspec": {
      "display_name": "Python 3",
      "name": "python3"
    },
    "language_info": {
      "name": "python"
    }
  },
  "nbformat": 4,
  "nbformat_minor": 0
}